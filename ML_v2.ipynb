{
  "nbformat": 4,
  "nbformat_minor": 0,
  "metadata": {
    "colab": {
      "name": "ML_v2.ipynb",
      "version": "0.3.2",
      "provenance": [],
      "collapsed_sections": [],
      "include_colab_link": true
    },
    "kernelspec": {
      "display_name": "Python 3",
      "language": "python",
      "name": "python3"
    }
  },
  "cells": [
    {
      "cell_type": "markdown",
      "metadata": {
        "id": "view-in-github",
        "colab_type": "text"
      },
      "source": [
        "<a href=\"https://colab.research.google.com/github/shriya999/Swiftshare/blob/master/ML_v2.ipynb\" target=\"_parent\"><img src=\"https://colab.research.google.com/assets/colab-badge.svg\" alt=\"Open In Colab\"/></a>"
      ]
    },
    {
      "metadata": {
        "id": "CM_fdGjrYI36",
        "colab_type": "code",
        "colab": {
          "base_uri": "https://localhost:8080/",
          "height": 104
        },
        "outputId": "8fbce41b-dd07-4655-e67f-42cbbee3d7a4"
      },
      "cell_type": "code",
      "source": [
        "!pip install -U -q PyDrive\n",
        "from pydrive.auth import GoogleAuth\n",
        "from pydrive.drive import GoogleDrive\n",
        "from google.colab import auth\n",
        "from oauth2client.client import GoogleCredentials\n",
        "# Authenticate and create the PyDrive client.\n",
        "# This only needs to be done once per notebook.\n",
        "auth.authenticate_user()\n",
        "gauth = GoogleAuth()\n",
        "gauth.credentials = GoogleCredentials.get_application_default()\n",
        "drive = GoogleDrive(gauth)\n",
        "file_id = '1OhLA-Jiwr1frvQ9_si_o8_1fKhsI7QZQ' # URL id.\n",
        "downloaded = drive.CreateFile({'id': file_id})\n",
        "downloaded.GetContentFile('TRAIN_FINAL.csv')\n",
        "file_id = '1pteIvE2p-ESzU6m1-8kY5NVTw4fCVixY' # URL id.  \n",
        "downloaded = drive.CreateFile({'id': file_id})\n",
        "downloaded.GetContentFile('Test_v1.csv')\n",
        "!pip install imblearn"
      ],
      "execution_count": 1,
      "outputs": [
        {
          "output_type": "stream",
          "text": [
            "Requirement already satisfied: imblearn in /usr/local/lib/python3.6/dist-packages (0.0)\n",
            "Requirement already satisfied: imbalanced-learn in /usr/local/lib/python3.6/dist-packages (from imblearn) (0.4.3)\n",
            "Requirement already satisfied: scikit-learn>=0.20 in /usr/local/lib/python3.6/dist-packages (from imbalanced-learn->imblearn) (0.20.1)\n",
            "Requirement already satisfied: numpy>=1.8.2 in /usr/local/lib/python3.6/dist-packages (from imbalanced-learn->imblearn) (1.14.6)\n",
            "Requirement already satisfied: scipy>=0.13.3 in /usr/local/lib/python3.6/dist-packages (from imbalanced-learn->imblearn) (1.1.0)\n"
          ],
          "name": "stdout"
        }
      ]
    },
    {
      "metadata": {
        "id": "uDVJrK98YCgt",
        "colab_type": "code",
        "colab": {
          "base_uri": "https://localhost:8080/",
          "height": 104
        },
        "outputId": "33ddfd57-6afa-4afd-ae17-b85e530e6168"
      },
      "cell_type": "code",
      "source": [
        "import pandas as pd\n",
        "import numpy as np\n",
        "import matplotlib.pyplot as plt\n",
        "import seaborn as sns\n",
        "\n",
        "train_data = pd.read_csv('TRAIN_FINAL.csv')\n",
        "test_data =pd.read_csv('Test_v1.csv')\n",
        "train_data.info()"
      ],
      "execution_count": 2,
      "outputs": [
        {
          "output_type": "stream",
          "text": [
            "<class 'pandas.core.frame.DataFrame'>\n",
            "RangeIndex: 45612 entries, 0 to 45611\n",
            "Columns: 370 entries, col_0 to TARGET\n",
            "dtypes: float64(111), int64(259)\n",
            "memory usage: 128.8 MB\n"
          ],
          "name": "stdout"
        }
      ]
    },
    {
      "metadata": {
        "id": "y1JtsDfvYCg-",
        "colab_type": "code",
        "colab": {
          "base_uri": "https://localhost:8080/",
          "height": 104
        },
        "outputId": "a4cc6c72-5104-47ad-875a-0b3e6dd55b18"
      },
      "cell_type": "code",
      "source": [
        "test_data.info()"
      ],
      "execution_count": 3,
      "outputs": [
        {
          "output_type": "stream",
          "text": [
            "<class 'pandas.core.frame.DataFrame'>\n",
            "RangeIndex: 10199 entries, 0 to 10198\n",
            "Columns: 370 entries, col_0 to index\n",
            "dtypes: float64(89), int64(281)\n",
            "memory usage: 28.8 MB\n"
          ],
          "name": "stdout"
        }
      ]
    },
    {
      "metadata": {
        "id": "7L1n97--YChK",
        "colab_type": "code",
        "colab": {}
      },
      "cell_type": "code",
      "source": [
        "train_data= train_data.astype('float64', copy=False)\n",
        "test_data=test_data.astype('float64',copy=False)    "
      ],
      "execution_count": 0,
      "outputs": []
    },
    {
      "metadata": {
        "id": "LTGRdKd5YChU",
        "colab_type": "code",
        "colab": {
          "base_uri": "https://localhost:8080/",
          "height": 104
        },
        "outputId": "af5f9c2b-ff2a-4fa1-d0cd-b74af950efa0"
      },
      "cell_type": "code",
      "source": [
        "train_data.info()"
      ],
      "execution_count": 5,
      "outputs": [
        {
          "output_type": "stream",
          "text": [
            "<class 'pandas.core.frame.DataFrame'>\n",
            "RangeIndex: 45612 entries, 0 to 45611\n",
            "Columns: 370 entries, col_0 to TARGET\n",
            "dtypes: float64(370)\n",
            "memory usage: 128.8 MB\n"
          ],
          "name": "stdout"
        }
      ]
    },
    {
      "metadata": {
        "id": "D7Few-2zYChd",
        "colab_type": "code",
        "colab": {
          "base_uri": "https://localhost:8080/",
          "height": 104
        },
        "outputId": "f5de7b86-a8d5-4de6-c501-382de4ade5be"
      },
      "cell_type": "code",
      "source": [
        "test_data.info()"
      ],
      "execution_count": 6,
      "outputs": [
        {
          "output_type": "stream",
          "text": [
            "<class 'pandas.core.frame.DataFrame'>\n",
            "RangeIndex: 10199 entries, 0 to 10198\n",
            "Columns: 370 entries, col_0 to index\n",
            "dtypes: float64(370)\n",
            "memory usage: 28.8 MB\n"
          ],
          "name": "stdout"
        }
      ]
    },
    {
      "metadata": {
        "id": "cL-EBufhYChn",
        "colab_type": "code",
        "colab": {
          "base_uri": "https://localhost:8080/",
          "height": 34
        },
        "outputId": "ac985054-a3e2-4598-88eb-2592b95a4977"
      },
      "cell_type": "code",
      "source": [
        "index=test_data[\"index\"]\n",
        "X_test=test_data.drop([\"index\"],axis=1)\n",
        "X_test.shape"
      ],
      "execution_count": 53,
      "outputs": [
        {
          "output_type": "execute_result",
          "data": {
            "text/plain": [
              "(10199, 369)"
            ]
          },
          "metadata": {
            "tags": []
          },
          "execution_count": 53
        }
      ]
    },
    {
      "metadata": {
        "id": "_xJyCNSTYChy",
        "colab_type": "code",
        "colab": {
          "base_uri": "https://localhost:8080/",
          "height": 34
        },
        "outputId": "73e020b8-d37e-4908-fafd-301d6c6b19a9"
      },
      "cell_type": "code",
      "source": [
        "y_train=train_data[\"TARGET\"]\n",
        "X_train=train_data.drop([\"TARGET\"],axis=1)\n",
        "X_train.shape"
      ],
      "execution_count": 54,
      "outputs": [
        {
          "output_type": "execute_result",
          "data": {
            "text/plain": [
              "(45612, 369)"
            ]
          },
          "metadata": {
            "tags": []
          },
          "execution_count": 54
        }
      ]
    },
    {
      "metadata": {
        "id": "VOMHXoc4gPou",
        "colab_type": "code",
        "colab": {
          "base_uri": "https://localhost:8080/",
          "height": 255
        },
        "outputId": "e7871987-99fe-4232-a2a1-7cbb7b4fb39f"
      },
      "cell_type": "code",
      "source": [
        "X_train=pd.DataFrame(data=X_train)\n",
        "cols=X_train.columns\n",
        "X_test=pd.DataFrame(X_test.values,columns=cols,copy=True)\n",
        "X_test.head()"
      ],
      "execution_count": 55,
      "outputs": [
        {
          "output_type": "execute_result",
          "data": {
            "text/html": [
              "<div>\n",
              "<style scoped>\n",
              "    .dataframe tbody tr th:only-of-type {\n",
              "        vertical-align: middle;\n",
              "    }\n",
              "\n",
              "    .dataframe tbody tr th {\n",
              "        vertical-align: top;\n",
              "    }\n",
              "\n",
              "    .dataframe thead th {\n",
              "        text-align: right;\n",
              "    }\n",
              "</style>\n",
              "<table border=\"1\" class=\"dataframe\">\n",
              "  <thead>\n",
              "    <tr style=\"text-align: right;\">\n",
              "      <th></th>\n",
              "      <th>col_0</th>\n",
              "      <th>col_1</th>\n",
              "      <th>col_2</th>\n",
              "      <th>col_3</th>\n",
              "      <th>col_4</th>\n",
              "      <th>col_5</th>\n",
              "      <th>col_6</th>\n",
              "      <th>col_7</th>\n",
              "      <th>col_8</th>\n",
              "      <th>col_9</th>\n",
              "      <th>...</th>\n",
              "      <th>col_359</th>\n",
              "      <th>col_360</th>\n",
              "      <th>col_361</th>\n",
              "      <th>col_362</th>\n",
              "      <th>col_363</th>\n",
              "      <th>col_364</th>\n",
              "      <th>col_365</th>\n",
              "      <th>col_366</th>\n",
              "      <th>col_367</th>\n",
              "      <th>col_368</th>\n",
              "    </tr>\n",
              "  </thead>\n",
              "  <tbody>\n",
              "    <tr>\n",
              "      <th>0</th>\n",
              "      <td>2.0</td>\n",
              "      <td>23.0</td>\n",
              "      <td>0.0</td>\n",
              "      <td>0.00</td>\n",
              "      <td>0.00</td>\n",
              "      <td>0.0</td>\n",
              "      <td>0.0</td>\n",
              "      <td>0.0</td>\n",
              "      <td>0.0</td>\n",
              "      <td>0.0</td>\n",
              "      <td>...</td>\n",
              "      <td>0.0</td>\n",
              "      <td>0.0</td>\n",
              "      <td>0.0</td>\n",
              "      <td>0.0</td>\n",
              "      <td>0.0</td>\n",
              "      <td>0.0</td>\n",
              "      <td>0.0</td>\n",
              "      <td>0.0</td>\n",
              "      <td>0.0</td>\n",
              "      <td>45444.060</td>\n",
              "    </tr>\n",
              "    <tr>\n",
              "      <th>1</th>\n",
              "      <td>2.0</td>\n",
              "      <td>23.0</td>\n",
              "      <td>0.0</td>\n",
              "      <td>0.00</td>\n",
              "      <td>0.00</td>\n",
              "      <td>0.0</td>\n",
              "      <td>0.0</td>\n",
              "      <td>0.0</td>\n",
              "      <td>0.0</td>\n",
              "      <td>0.0</td>\n",
              "      <td>...</td>\n",
              "      <td>0.0</td>\n",
              "      <td>0.0</td>\n",
              "      <td>0.0</td>\n",
              "      <td>0.0</td>\n",
              "      <td>0.0</td>\n",
              "      <td>0.0</td>\n",
              "      <td>0.0</td>\n",
              "      <td>0.0</td>\n",
              "      <td>0.0</td>\n",
              "      <td>208922.130</td>\n",
              "    </tr>\n",
              "    <tr>\n",
              "      <th>2</th>\n",
              "      <td>2.0</td>\n",
              "      <td>33.0</td>\n",
              "      <td>0.0</td>\n",
              "      <td>75.75</td>\n",
              "      <td>75.75</td>\n",
              "      <td>0.0</td>\n",
              "      <td>0.0</td>\n",
              "      <td>0.0</td>\n",
              "      <td>0.0</td>\n",
              "      <td>0.0</td>\n",
              "      <td>...</td>\n",
              "      <td>0.0</td>\n",
              "      <td>0.0</td>\n",
              "      <td>0.0</td>\n",
              "      <td>0.0</td>\n",
              "      <td>0.0</td>\n",
              "      <td>0.0</td>\n",
              "      <td>0.0</td>\n",
              "      <td>0.0</td>\n",
              "      <td>0.0</td>\n",
              "      <td>60369.900</td>\n",
              "    </tr>\n",
              "    <tr>\n",
              "      <th>3</th>\n",
              "      <td>2.0</td>\n",
              "      <td>29.0</td>\n",
              "      <td>0.0</td>\n",
              "      <td>0.00</td>\n",
              "      <td>0.00</td>\n",
              "      <td>0.0</td>\n",
              "      <td>0.0</td>\n",
              "      <td>0.0</td>\n",
              "      <td>0.0</td>\n",
              "      <td>0.0</td>\n",
              "      <td>...</td>\n",
              "      <td>0.0</td>\n",
              "      <td>0.0</td>\n",
              "      <td>0.0</td>\n",
              "      <td>0.0</td>\n",
              "      <td>0.0</td>\n",
              "      <td>0.0</td>\n",
              "      <td>0.0</td>\n",
              "      <td>0.0</td>\n",
              "      <td>0.0</td>\n",
              "      <td>117310.979</td>\n",
              "    </tr>\n",
              "    <tr>\n",
              "      <th>4</th>\n",
              "      <td>2.0</td>\n",
              "      <td>30.0</td>\n",
              "      <td>0.0</td>\n",
              "      <td>47.13</td>\n",
              "      <td>47.13</td>\n",
              "      <td>0.0</td>\n",
              "      <td>0.0</td>\n",
              "      <td>0.0</td>\n",
              "      <td>0.0</td>\n",
              "      <td>0.0</td>\n",
              "      <td>...</td>\n",
              "      <td>0.0</td>\n",
              "      <td>0.0</td>\n",
              "      <td>0.0</td>\n",
              "      <td>0.0</td>\n",
              "      <td>0.0</td>\n",
              "      <td>0.0</td>\n",
              "      <td>0.0</td>\n",
              "      <td>0.0</td>\n",
              "      <td>0.0</td>\n",
              "      <td>117310.979</td>\n",
              "    </tr>\n",
              "  </tbody>\n",
              "</table>\n",
              "<p>5 rows × 369 columns</p>\n",
              "</div>"
            ],
            "text/plain": [
              "   col_0  col_1  col_2  col_3  col_4  col_5  col_6  col_7  col_8  col_9  \\\n",
              "0    2.0   23.0    0.0   0.00   0.00    0.0    0.0    0.0    0.0    0.0   \n",
              "1    2.0   23.0    0.0   0.00   0.00    0.0    0.0    0.0    0.0    0.0   \n",
              "2    2.0   33.0    0.0  75.75  75.75    0.0    0.0    0.0    0.0    0.0   \n",
              "3    2.0   29.0    0.0   0.00   0.00    0.0    0.0    0.0    0.0    0.0   \n",
              "4    2.0   30.0    0.0  47.13  47.13    0.0    0.0    0.0    0.0    0.0   \n",
              "\n",
              "      ...      col_359  col_360  col_361  col_362  col_363  col_364  col_365  \\\n",
              "0     ...          0.0      0.0      0.0      0.0      0.0      0.0      0.0   \n",
              "1     ...          0.0      0.0      0.0      0.0      0.0      0.0      0.0   \n",
              "2     ...          0.0      0.0      0.0      0.0      0.0      0.0      0.0   \n",
              "3     ...          0.0      0.0      0.0      0.0      0.0      0.0      0.0   \n",
              "4     ...          0.0      0.0      0.0      0.0      0.0      0.0      0.0   \n",
              "\n",
              "   col_366  col_367     col_368  \n",
              "0      0.0      0.0   45444.060  \n",
              "1      0.0      0.0  208922.130  \n",
              "2      0.0      0.0   60369.900  \n",
              "3      0.0      0.0  117310.979  \n",
              "4      0.0      0.0  117310.979  \n",
              "\n",
              "[5 rows x 369 columns]"
            ]
          },
          "metadata": {
            "tags": []
          },
          "execution_count": 55
        }
      ]
    },
    {
      "metadata": {
        "id": "qPbLnMjGnOWM",
        "colab_type": "code",
        "colab": {}
      },
      "cell_type": "code",
      "source": [
        "sub = pd.DataFrame()\n",
        "sub['index'] = index\n",
        "sub['TARGET'] = np.zeros_like(index)"
      ],
      "execution_count": 0,
      "outputs": []
    },
    {
      "metadata": {
        "id": "rvfGVc-HooJP",
        "colab_type": "code",
        "colab": {}
      },
      "cell_type": "code",
      "source": [
        "from sklearn.metrics import roc_curve, auc,recall_score,precision_score\n",
        "\n",
        "def gini_xgb(preds, dtrain):\n",
        "    labels = dtrain.get_label()\n",
        "    gini_score = metrics.roc_auc_score(labels, preds)\n",
        "    return 'gini', gini_score"
      ],
      "execution_count": 0,
      "outputs": []
    },
    {
      "metadata": {
        "id": "iX8tW2b3pZuq",
        "colab_type": "code",
        "colab": {}
      },
      "cell_type": "code",
      "source": [
        "params = {\n",
        "    'min_child_weight': 10.0,\n",
        "    'objective': 'binary:logistic',\n",
        "    'max_depth': 7,\n",
        "    'eval_metric': 'auc',\n",
        "    'max_delta_step': 1.8,\n",
        "    'colsample_bytree': 0.4,\n",
        "    'subsample': 0.8,\n",
        "    'eta': 0.025,\n",
        "    'gamma': 0.65,\n",
        "    'num_boost_round' : 700\n",
        "    }"
      ],
      "execution_count": 0,
      "outputs": []
    },
    {
      "metadata": {
        "id": "x1TSrmq3YCiE",
        "colab_type": "code",
        "colab": {
          "base_uri": "https://localhost:8080/",
          "height": 2014
        },
        "outputId": "627c80cd-6ced-4830-923c-abea052d1d9e"
      },
      "cell_type": "code",
      "source": [
        "from sklearn.model_selection import StratifiedKFold\n",
        "\n",
        "kfold = 5\n",
        "skf = StratifiedKFold(n_splits=kfold, random_state=42)\n",
        "\n",
        "for i, (train_index, validate_index) in enumerate(skf.split(X_train, y_train)):\n",
        "      print(\"TRAIN:\", train_index, \"TEST:\", validate_index)\n",
        "      X_train_1, X_validate = X_train.iloc[train_index], X_train.iloc[validate_index]\n",
        "      y_train_1, y_validate = y_train.iloc[train_index], y_train.iloc[validate_index]\n",
        "      \n",
        "      X_train_1=pd.DataFrame(data=X_train_1)\n",
        "      cols=X_train.columns\n",
        "      X_test=pd.DataFrame(X_test.values,columns=cols,copy=True)\n",
        "      print(X_test.head())\n",
        "      \n",
        "#       d_train = xgb.DMatrix(X_train_1, y_train_1)\n",
        "#       d_valid = xgb.DMatrix(X_validate, y_validate)\n",
        "#       d_test = xgb.DMatrix(X_test.values)\n",
        "      \n",
        "#       watchlist = [(d_train, 'train'), (d_valid, 'valid')]\n",
        "      \n",
        "#       mdl = xgb.train(params, d_train, 1600, watchlist, early_stopping_rounds=4, maximize=True, verbose_eval=100)\n",
        "#       print('[Fold %d/%d Prediciton:]' % (i + 1, kfold))\n",
        "#       # Predict on our test data\n",
        "#       p_test = mdl.predict(d_test, ntree_limit=mdl.best_ntree_limit)\n",
        "#       sub['TARGET'] += p_test/kfold"
      ],
      "execution_count": 58,
      "outputs": [
        {
          "output_type": "stream",
          "text": [
            "TRAIN: [ 9006  9019  9059 ... 45609 45610 45611] TEST: [   0    1    2 ... 9125 9126 9127]\n",
            "   col_0  col_1  col_2  col_3  col_4  col_5  col_6  col_7  col_8  col_9  \\\n",
            "0    2.0   23.0    0.0   0.00   0.00    0.0    0.0    0.0    0.0    0.0   \n",
            "1    2.0   23.0    0.0   0.00   0.00    0.0    0.0    0.0    0.0    0.0   \n",
            "2    2.0   33.0    0.0  75.75  75.75    0.0    0.0    0.0    0.0    0.0   \n",
            "3    2.0   29.0    0.0   0.00   0.00    0.0    0.0    0.0    0.0    0.0   \n",
            "4    2.0   30.0    0.0  47.13  47.13    0.0    0.0    0.0    0.0    0.0   \n",
            "\n",
            "      ...      col_359  col_360  col_361  col_362  col_363  col_364  col_365  \\\n",
            "0     ...          0.0      0.0      0.0      0.0      0.0      0.0      0.0   \n",
            "1     ...          0.0      0.0      0.0      0.0      0.0      0.0      0.0   \n",
            "2     ...          0.0      0.0      0.0      0.0      0.0      0.0      0.0   \n",
            "3     ...          0.0      0.0      0.0      0.0      0.0      0.0      0.0   \n",
            "4     ...          0.0      0.0      0.0      0.0      0.0      0.0      0.0   \n",
            "\n",
            "   col_366  col_367     col_368  \n",
            "0      0.0      0.0   45444.060  \n",
            "1      0.0      0.0  208922.130  \n",
            "2      0.0      0.0   60369.900  \n",
            "3      0.0      0.0  117310.979  \n",
            "4      0.0      0.0  117310.979  \n",
            "\n",
            "[5 rows x 369 columns]\n",
            "TRAIN: [    0     1     2 ... 45609 45610 45611] TEST: [ 9006  9019  9059 ... 18256 18257 18258]\n",
            "   col_0  col_1  col_2  col_3  col_4  col_5  col_6  col_7  col_8  col_9  \\\n",
            "0    2.0   23.0    0.0   0.00   0.00    0.0    0.0    0.0    0.0    0.0   \n",
            "1    2.0   23.0    0.0   0.00   0.00    0.0    0.0    0.0    0.0    0.0   \n",
            "2    2.0   33.0    0.0  75.75  75.75    0.0    0.0    0.0    0.0    0.0   \n",
            "3    2.0   29.0    0.0   0.00   0.00    0.0    0.0    0.0    0.0    0.0   \n",
            "4    2.0   30.0    0.0  47.13  47.13    0.0    0.0    0.0    0.0    0.0   \n",
            "\n",
            "      ...      col_359  col_360  col_361  col_362  col_363  col_364  col_365  \\\n",
            "0     ...          0.0      0.0      0.0      0.0      0.0      0.0      0.0   \n",
            "1     ...          0.0      0.0      0.0      0.0      0.0      0.0      0.0   \n",
            "2     ...          0.0      0.0      0.0      0.0      0.0      0.0      0.0   \n",
            "3     ...          0.0      0.0      0.0      0.0      0.0      0.0      0.0   \n",
            "4     ...          0.0      0.0      0.0      0.0      0.0      0.0      0.0   \n",
            "\n",
            "   col_366  col_367     col_368  \n",
            "0      0.0      0.0   45444.060  \n",
            "1      0.0      0.0  208922.130  \n",
            "2      0.0      0.0   60369.900  \n",
            "3      0.0      0.0  117310.979  \n",
            "4      0.0      0.0  117310.979  \n",
            "\n",
            "[5 rows x 369 columns]\n",
            "TRAIN: [    0     1     2 ... 45609 45610 45611] TEST: [17884 17911 17914 ... 27367 27368 27369]\n",
            "   col_0  col_1  col_2  col_3  col_4  col_5  col_6  col_7  col_8  col_9  \\\n",
            "0    2.0   23.0    0.0   0.00   0.00    0.0    0.0    0.0    0.0    0.0   \n",
            "1    2.0   23.0    0.0   0.00   0.00    0.0    0.0    0.0    0.0    0.0   \n",
            "2    2.0   33.0    0.0  75.75  75.75    0.0    0.0    0.0    0.0    0.0   \n",
            "3    2.0   29.0    0.0   0.00   0.00    0.0    0.0    0.0    0.0    0.0   \n",
            "4    2.0   30.0    0.0  47.13  47.13    0.0    0.0    0.0    0.0    0.0   \n",
            "\n",
            "      ...      col_359  col_360  col_361  col_362  col_363  col_364  col_365  \\\n",
            "0     ...          0.0      0.0      0.0      0.0      0.0      0.0      0.0   \n",
            "1     ...          0.0      0.0      0.0      0.0      0.0      0.0      0.0   \n",
            "2     ...          0.0      0.0      0.0      0.0      0.0      0.0      0.0   \n",
            "3     ...          0.0      0.0      0.0      0.0      0.0      0.0      0.0   \n",
            "4     ...          0.0      0.0      0.0      0.0      0.0      0.0      0.0   \n",
            "\n",
            "   col_366  col_367     col_368  \n",
            "0      0.0      0.0   45444.060  \n",
            "1      0.0      0.0  208922.130  \n",
            "2      0.0      0.0   60369.900  \n",
            "3      0.0      0.0  117310.979  \n",
            "4      0.0      0.0  117310.979  \n",
            "\n",
            "[5 rows x 369 columns]\n",
            "TRAIN: [    0     1     2 ... 45609 45610 45611] TEST: [27356 27370 27371 ... 36791 36826 36830]\n",
            "   col_0  col_1  col_2  col_3  col_4  col_5  col_6  col_7  col_8  col_9  \\\n",
            "0    2.0   23.0    0.0   0.00   0.00    0.0    0.0    0.0    0.0    0.0   \n",
            "1    2.0   23.0    0.0   0.00   0.00    0.0    0.0    0.0    0.0    0.0   \n",
            "2    2.0   33.0    0.0  75.75  75.75    0.0    0.0    0.0    0.0    0.0   \n",
            "3    2.0   29.0    0.0   0.00   0.00    0.0    0.0    0.0    0.0    0.0   \n",
            "4    2.0   30.0    0.0  47.13  47.13    0.0    0.0    0.0    0.0    0.0   \n",
            "\n",
            "      ...      col_359  col_360  col_361  col_362  col_363  col_364  col_365  \\\n",
            "0     ...          0.0      0.0      0.0      0.0      0.0      0.0      0.0   \n",
            "1     ...          0.0      0.0      0.0      0.0      0.0      0.0      0.0   \n",
            "2     ...          0.0      0.0      0.0      0.0      0.0      0.0      0.0   \n",
            "3     ...          0.0      0.0      0.0      0.0      0.0      0.0      0.0   \n",
            "4     ...          0.0      0.0      0.0      0.0      0.0      0.0      0.0   \n",
            "\n",
            "   col_366  col_367     col_368  \n",
            "0      0.0      0.0   45444.060  \n",
            "1      0.0      0.0  208922.130  \n",
            "2      0.0      0.0   60369.900  \n",
            "3      0.0      0.0  117310.979  \n",
            "4      0.0      0.0  117310.979  \n",
            "\n",
            "[5 rows x 369 columns]\n",
            "TRAIN: [    0     1     2 ... 36791 36826 36830] TEST: [36474 36475 36476 ... 45609 45610 45611]\n",
            "   col_0  col_1  col_2  col_3  col_4  col_5  col_6  col_7  col_8  col_9  \\\n",
            "0    2.0   23.0    0.0   0.00   0.00    0.0    0.0    0.0    0.0    0.0   \n",
            "1    2.0   23.0    0.0   0.00   0.00    0.0    0.0    0.0    0.0    0.0   \n",
            "2    2.0   33.0    0.0  75.75  75.75    0.0    0.0    0.0    0.0    0.0   \n",
            "3    2.0   29.0    0.0   0.00   0.00    0.0    0.0    0.0    0.0    0.0   \n",
            "4    2.0   30.0    0.0  47.13  47.13    0.0    0.0    0.0    0.0    0.0   \n",
            "\n",
            "      ...      col_359  col_360  col_361  col_362  col_363  col_364  col_365  \\\n",
            "0     ...          0.0      0.0      0.0      0.0      0.0      0.0      0.0   \n",
            "1     ...          0.0      0.0      0.0      0.0      0.0      0.0      0.0   \n",
            "2     ...          0.0      0.0      0.0      0.0      0.0      0.0      0.0   \n",
            "3     ...          0.0      0.0      0.0      0.0      0.0      0.0      0.0   \n",
            "4     ...          0.0      0.0      0.0      0.0      0.0      0.0      0.0   \n",
            "\n",
            "   col_366  col_367     col_368  \n",
            "0      0.0      0.0   45444.060  \n",
            "1      0.0      0.0  208922.130  \n",
            "2      0.0      0.0   60369.900  \n",
            "3      0.0      0.0  117310.979  \n",
            "4      0.0      0.0  117310.979  \n",
            "\n",
            "[5 rows x 369 columns]\n"
          ],
          "name": "stdout"
        }
      ]
    },
    {
      "metadata": {
        "id": "7QqFoB7Inw9f",
        "colab_type": "code",
        "colab": {}
      },
      "cell_type": "code",
      "source": [
        "sub.to_csv('project12.csv', index=False)"
      ],
      "execution_count": 0,
      "outputs": []
    },
    {
      "metadata": {
        "id": "jfKBJnFsn5-n",
        "colab_type": "code",
        "colab": {}
      },
      "cell_type": "code",
      "source": [
        "uploaded = drive.CreateFile({'title': 'project12.csv'})\n",
        "uploaded.SetContentFile('project12.csv')\n",
        "uploaded.Upload()\n",
        "print('Uploaded file with ID {}'.format(uploaded.get('id')))"
      ],
      "execution_count": 0,
      "outputs": []
    },
    {
      "metadata": {
        "id": "ndQk8WTIh_pm",
        "colab_type": "code",
        "colab": {
          "base_uri": "https://localhost:8080/",
          "height": 34
        },
        "outputId": "1cc5c7f1-d39b-4d1f-a2d8-95f2a393a193"
      },
      "cell_type": "code",
      "source": [
        "print( X_train_1.shape, X_validate.shape, y_train_1.shape, y_validate.shape)"
      ],
      "execution_count": 28,
      "outputs": [
        {
          "output_type": "stream",
          "text": [
            "(22807, 369) (22805, 369) (22807,) (22805,)\n"
          ],
          "name": "stdout"
        }
      ]
    },
    {
      "metadata": {
        "id": "PnoTII5pYCiS",
        "colab_type": "code",
        "colab": {}
      },
      "cell_type": "code",
      "source": [
        "from sklearn.preprocessing import StandardScaler\n",
        "scaler= StandardScaler()\n",
        "scaled_train=scaler.fit_transform(X_train)\n",
        "scaled_test=scaler.transform(X_test)"
      ],
      "execution_count": 0,
      "outputs": []
    },
    {
      "metadata": {
        "id": "ldUQ_jd_YCiZ",
        "colab_type": "code",
        "colab": {},
        "outputId": "4a5dd12b-e776-4f3b-b0ff-2294dde75811"
      },
      "cell_type": "code",
      "source": [
        "from sklearn.decomposition import PCA\n",
        "\n",
        "n_components = 30\n",
        "pca = PCA(n_components=n_components, svd_solver='randomized',whiten=True).fit(scaled_train)\n",
        "X_train_pca = pca.transform(scaled_train)\n",
        "X_test_pca=pca.transform(scaled_test)\n",
        "plt.hist(pca.explained_variance_ratio_, bins=2, log=True)\n",
        "pca.explained_variance_ratio_.sum()"
      ],
      "execution_count": 0,
      "outputs": [
        {
          "output_type": "stream",
          "text": [
            "/home/shriya/anaconda3/lib/python3.6/site-packages/matplotlib/axes/_base.py:3443: UserWarning: Attempting to set identical bottom==top results\n",
            "in singular transformations; automatically expanding.\n",
            "bottom=1.0, top=1.0\n",
            "  'bottom=%s, top=%s') % (bottom, top))\n"
          ],
          "name": "stderr"
        },
        {
          "output_type": "execute_result",
          "data": {
            "text/plain": [
              "0.15278682671632718"
            ]
          },
          "metadata": {
            "tags": []
          },
          "execution_count": 102
        },
        {
          "output_type": "display_data",
          "data": {
            "image/png": "[encoded data removed]",
            "text/plain": [
              "<Figure size 432x288 with 1 Axes>"
            ]
          },
          "metadata": {
            "tags": []
          }
        }
      ]
    },
    {
      "metadata": {
        "id": "0ASuv1DPYCi1",
        "colab_type": "code",
        "colab": {},
        "outputId": "f1d527d1-7178-435b-bbdb-68b233efe468"
      },
      "cell_type": "code",
      "source": [
        "plot_2d_space(X_train_pca, y_train, 'dataset after undersampling (2 PCA components)')"
      ],
      "execution_count": 0,
      "outputs": [
        {
          "output_type": "display_data",
          "data": {
            "image/png": "[encoded data removed]",
            "text/plain": [
              "<Figure size 432x288 with 1 Axes>"
            ]
          },
          "metadata": {
            "tags": []
          }
        }
      ]
    },
    {
      "metadata": {
        "id": "bh5nMEe_YCj5",
        "colab_type": "code",
        "colab": {},
        "outputId": "0a693e86-75e0-47a6-dd41-d3ab48d37772"
      },
      "cell_type": "code",
      "source": [
        "X_train=pd.DataFrame(data=X_train)\n",
        "cols=X_train.columns\n",
        "X_test=pd.DataFrame(X_test.values,columns=cols,copy=True)\n",
        "X_test.head()"
      ],
      "execution_count": 0,
      "outputs": [
        {
          "output_type": "execute_result",
          "data": {
            "text/html": [
              "<div>\n",
              "<style scoped>\n",
              "    .dataframe tbody tr th:only-of-type {\n",
              "        vertical-align: middle;\n",
              "    }\n",
              "\n",
              "    .dataframe tbody tr th {\n",
              "        vertical-align: top;\n",
              "    }\n",
              "\n",
              "    .dataframe thead th {\n",
              "        text-align: right;\n",
              "    }\n",
              "</style>\n",
              "<table border=\"1\" class=\"dataframe\">\n",
              "  <thead>\n",
              "    <tr style=\"text-align: right;\">\n",
              "      <th></th>\n",
              "      <th>0</th>\n",
              "      <th>1</th>\n",
              "      <th>2</th>\n",
              "      <th>3</th>\n",
              "      <th>4</th>\n",
              "      <th>5</th>\n",
              "      <th>6</th>\n",
              "      <th>7</th>\n",
              "      <th>8</th>\n",
              "      <th>9</th>\n",
              "      <th>...</th>\n",
              "      <th>359</th>\n",
              "      <th>360</th>\n",
              "      <th>361</th>\n",
              "      <th>362</th>\n",
              "      <th>363</th>\n",
              "      <th>364</th>\n",
              "      <th>365</th>\n",
              "      <th>366</th>\n",
              "      <th>367</th>\n",
              "      <th>368</th>\n",
              "    </tr>\n",
              "  </thead>\n",
              "  <tbody>\n",
              "    <tr>\n",
              "      <th>0</th>\n",
              "      <td>2.0</td>\n",
              "      <td>23.0</td>\n",
              "      <td>0.0</td>\n",
              "      <td>0.00</td>\n",
              "      <td>0.00</td>\n",
              "      <td>0.0</td>\n",
              "      <td>0.0</td>\n",
              "      <td>0.0</td>\n",
              "      <td>0.0</td>\n",
              "      <td>0.0</td>\n",
              "      <td>...</td>\n",
              "      <td>0.0</td>\n",
              "      <td>0.0</td>\n",
              "      <td>0.0</td>\n",
              "      <td>0.0</td>\n",
              "      <td>0.0</td>\n",
              "      <td>0.0</td>\n",
              "      <td>0.0</td>\n",
              "      <td>0.0</td>\n",
              "      <td>0.0</td>\n",
              "      <td>45444.060</td>\n",
              "    </tr>\n",
              "    <tr>\n",
              "      <th>1</th>\n",
              "      <td>2.0</td>\n",
              "      <td>23.0</td>\n",
              "      <td>0.0</td>\n",
              "      <td>0.00</td>\n",
              "      <td>0.00</td>\n",
              "      <td>0.0</td>\n",
              "      <td>0.0</td>\n",
              "      <td>0.0</td>\n",
              "      <td>0.0</td>\n",
              "      <td>0.0</td>\n",
              "      <td>...</td>\n",
              "      <td>0.0</td>\n",
              "      <td>0.0</td>\n",
              "      <td>0.0</td>\n",
              "      <td>0.0</td>\n",
              "      <td>0.0</td>\n",
              "      <td>0.0</td>\n",
              "      <td>0.0</td>\n",
              "      <td>0.0</td>\n",
              "      <td>0.0</td>\n",
              "      <td>208922.130</td>\n",
              "    </tr>\n",
              "    <tr>\n",
              "      <th>2</th>\n",
              "      <td>2.0</td>\n",
              "      <td>33.0</td>\n",
              "      <td>0.0</td>\n",
              "      <td>75.75</td>\n",
              "      <td>75.75</td>\n",
              "      <td>0.0</td>\n",
              "      <td>0.0</td>\n",
              "      <td>0.0</td>\n",
              "      <td>0.0</td>\n",
              "      <td>0.0</td>\n",
              "      <td>...</td>\n",
              "      <td>0.0</td>\n",
              "      <td>0.0</td>\n",
              "      <td>0.0</td>\n",
              "      <td>0.0</td>\n",
              "      <td>0.0</td>\n",
              "      <td>0.0</td>\n",
              "      <td>0.0</td>\n",
              "      <td>0.0</td>\n",
              "      <td>0.0</td>\n",
              "      <td>60369.900</td>\n",
              "    </tr>\n",
              "    <tr>\n",
              "      <th>3</th>\n",
              "      <td>2.0</td>\n",
              "      <td>29.0</td>\n",
              "      <td>0.0</td>\n",
              "      <td>0.00</td>\n",
              "      <td>0.00</td>\n",
              "      <td>0.0</td>\n",
              "      <td>0.0</td>\n",
              "      <td>0.0</td>\n",
              "      <td>0.0</td>\n",
              "      <td>0.0</td>\n",
              "      <td>...</td>\n",
              "      <td>0.0</td>\n",
              "      <td>0.0</td>\n",
              "      <td>0.0</td>\n",
              "      <td>0.0</td>\n",
              "      <td>0.0</td>\n",
              "      <td>0.0</td>\n",
              "      <td>0.0</td>\n",
              "      <td>0.0</td>\n",
              "      <td>0.0</td>\n",
              "      <td>117310.979</td>\n",
              "    </tr>\n",
              "    <tr>\n",
              "      <th>4</th>\n",
              "      <td>2.0</td>\n",
              "      <td>30.0</td>\n",
              "      <td>0.0</td>\n",
              "      <td>47.13</td>\n",
              "      <td>47.13</td>\n",
              "      <td>0.0</td>\n",
              "      <td>0.0</td>\n",
              "      <td>0.0</td>\n",
              "      <td>0.0</td>\n",
              "      <td>0.0</td>\n",
              "      <td>...</td>\n",
              "      <td>0.0</td>\n",
              "      <td>0.0</td>\n",
              "      <td>0.0</td>\n",
              "      <td>0.0</td>\n",
              "      <td>0.0</td>\n",
              "      <td>0.0</td>\n",
              "      <td>0.0</td>\n",
              "      <td>0.0</td>\n",
              "      <td>0.0</td>\n",
              "      <td>117310.979</td>\n",
              "    </tr>\n",
              "  </tbody>\n",
              "</table>\n",
              "<p>5 rows × 369 columns</p>\n",
              "</div>"
            ],
            "text/plain": [
              "   0     1    2      3      4    5    6    7    8    9       ...      359  \\\n",
              "0  2.0  23.0  0.0   0.00   0.00  0.0  0.0  0.0  0.0  0.0     ...      0.0   \n",
              "1  2.0  23.0  0.0   0.00   0.00  0.0  0.0  0.0  0.0  0.0     ...      0.0   \n",
              "2  2.0  33.0  0.0  75.75  75.75  0.0  0.0  0.0  0.0  0.0     ...      0.0   \n",
              "3  2.0  29.0  0.0   0.00   0.00  0.0  0.0  0.0  0.0  0.0     ...      0.0   \n",
              "4  2.0  30.0  0.0  47.13  47.13  0.0  0.0  0.0  0.0  0.0     ...      0.0   \n",
              "\n",
              "   360  361  362  363  364  365  366  367         368  \n",
              "0  0.0  0.0  0.0  0.0  0.0  0.0  0.0  0.0   45444.060  \n",
              "1  0.0  0.0  0.0  0.0  0.0  0.0  0.0  0.0  208922.130  \n",
              "2  0.0  0.0  0.0  0.0  0.0  0.0  0.0  0.0   60369.900  \n",
              "3  0.0  0.0  0.0  0.0  0.0  0.0  0.0  0.0  117310.979  \n",
              "4  0.0  0.0  0.0  0.0  0.0  0.0  0.0  0.0  117310.979  \n",
              "\n",
              "[5 rows x 369 columns]"
            ]
          },
          "metadata": {
            "tags": []
          },
          "execution_count": 105
        }
      ]
    },
    {
      "metadata": {
        "id": "NHPnCyb2YCj_",
        "colab_type": "code",
        "colab": {},
        "outputId": "f8af8c17-3f0a-47c0-8f91-bf8f738f2275"
      },
      "cell_type": "code",
      "source": [
        "print(X_train.shape,X_test.shape)"
      ],
      "execution_count": 0,
      "outputs": [
        {
          "output_type": "stream",
          "text": [
            "(84710, 369) (10199, 369)\n"
          ],
          "name": "stdout"
        }
      ]
    },
    {
      "metadata": {
        "id": "0H8oswiMYCkG",
        "colab_type": "code",
        "colab": {}
      },
      "cell_type": "code",
      "source": [
        "import xgboost as xgb\n",
        "from xgboost.sklearn import XGBClassifier\n",
        "from sklearn import metrics   #Additional scklearn functions\n",
        "from sklearn.model_selection import GridSearchCV\n",
        "\n",
        "def modelfit(alg, dtrain,y_train,dtest,predictors,useTrainCV=True, cv_folds=5, early_stopping_rounds=50):    \n",
        "    if useTrainCV:\n",
        "        xgb_param = alg.get_xgb_params()\n",
        "        xgtrain = xgb.DMatrix(dtrain[predictors].values, label=y_train)\n",
        "        cvresult = xgb.cv(xgb_param, xgtrain, num_boost_round=alg.get_params()['n_estimators'], nfold=cv_folds,\n",
        "            metrics='auc', early_stopping_rounds=early_stopping_rounds)\n",
        "        alg.set_params(n_estimators=cvresult.shape[0])\n",
        "    \n",
        "    #Fit the algorithm on the data\n",
        "    alg.fit(dtrain[predictors],y_train,eval_metric='auc')\n",
        "        \n",
        "    #Predict training set:\n",
        "    dtrain_predictions = alg.predict(dtrain[predictors])\n",
        "    dtrain_predprob = alg.predict_proba(dtrain[predictors])[:,1]\n",
        "    preds=alg.predict(dtest[predictors])\n",
        "        \n",
        "    #Print model report:\n",
        "    print (\"\\nModel Report\")\n",
        "    print (\"Accuracy : %.4g\" % metrics.accuracy_score(y_train, dtrain_predictions) )\n",
        "    print (\"AUC Score (Train): %f\" % metrics.roc_auc_score(y_train, dtrain_predprob) )\n",
        "    return preds"
      ],
      "execution_count": 0,
      "outputs": []
    },
    {
      "metadata": {
        "id": "EsrlDsc2YCkM",
        "colab_type": "code",
        "colab": {
          "base_uri": "https://localhost:8080/",
          "height": 86
        },
        "outputId": "26767d24-e847-4e7a-fff7-9f8b31fb0098"
      },
      "cell_type": "code",
      "source": [
        "#X_train_pca=pd.DataFrame(data=X_train_pca)\n",
        "#X_test_pca=pd.DataFrame(data=X_test_pca)\n",
        "predictors = X_train_1.columns\n",
        "xgb1 = XGBClassifier(\n",
        " learning_rate =0.1,\n",
        " n_estimators=1000,\n",
        " max_depth=5,\n",
        " min_child_weight=1,\n",
        " gamma=0,\n",
        " subsample=0.8,\n",
        " colsample_bytree=0.8,\n",
        " objective= 'binary:logistic',\n",
        " nthread=4,\n",
        " scale_pos_weight=1,\n",
        " seed=27)\n",
        "y_pred=modelfit(xgb1, X_train_1,y_train_1,X_validate,predictors)"
      ],
      "execution_count": 32,
      "outputs": [
        {
          "output_type": "stream",
          "text": [
            "\n",
            "Model Report\n",
            "Accuracy : 0.9622\n",
            "AUC Score (Train): 0.890318\n"
          ],
          "name": "stdout"
        }
      ]
    },
    {
      "metadata": {
        "id": "MQBO3YffitIK",
        "colab_type": "code",
        "colab": {
          "base_uri": "https://localhost:8080/",
          "height": 69
        },
        "outputId": "12242aeb-b873-4e3e-d241-4beffc62ceb9"
      },
      "cell_type": "code",
      "source": [
        "from sklearn import metrics\n",
        "\n",
        "print (metrics.precision_score(y_validate, y_pred))   #precision is the ability of the classifier not to label as positive a sample that is negative\n",
        "print (metrics.recall_score(y_validate, y_pred) )     #recall is the ability of the classifier to find all the positive samples.\n",
        "print(metrics.f1_score(y_validate, y_pred) ) "
      ],
      "execution_count": 33,
      "outputs": [
        {
          "output_type": "stream",
          "text": [
            "0.375\n",
            "0.00340522133938706\n",
            "0.006749156355455569\n"
          ],
          "name": "stdout"
        }
      ]
    },
    {
      "metadata": {
        "id": "JLY5Wy46YCkS",
        "colab_type": "code",
        "colab": {}
      },
      "cell_type": "code",
      "source": [
        "index=index.astype(\"int64\")"
      ],
      "execution_count": 0,
      "outputs": []
    },
    {
      "metadata": {
        "id": "ovTeLxFoYCkb",
        "colab_type": "code",
        "colab": {}
      },
      "cell_type": "code",
      "source": [
        "submission = pd.DataFrame({\"index\":index,\"TARGET\":preds})\n",
        "submission.to_csv('project_10.csv', index=False)"
      ],
      "execution_count": 0,
      "outputs": []
    },
    {
      "metadata": {
        "id": "5x8NPs6KYClY",
        "colab_type": "code",
        "colab": {}
      },
      "cell_type": "code",
      "source": [
        "from sklearn.linear_model import LogisticRegression\n",
        "clf = LogisticRegression(random_state=0, solver='lbfgs').fit(X_train_1, y_train_1)\n",
        "y_prob = clf.predict_proba(X_validate)[:,1]"
      ],
      "execution_count": 0,
      "outputs": []
    },
    {
      "metadata": {
        "id": "PZng4wDmYCli",
        "colab_type": "code",
        "colab": {}
      },
      "cell_type": "code",
      "source": [
        "from sklearn.tree import DecisionTreeClassifier\n",
        "\n",
        "clf = DecisionTreeClassifier()\n",
        "clf.fit(X_train_1,y_train_1)\n",
        "y_prob = clf.predict_proba(X_validate)[:,1]  "
      ],
      "execution_count": 0,
      "outputs": []
    },
    {
      "metadata": {
        "id": "iPXoQ5lEYClp",
        "colab_type": "code",
        "colab": {}
      },
      "cell_type": "code",
      "source": [
        "from sklearn.ensemble import BaggingClassifier\n",
        "#TODO\n",
        "\n",
        "bag_clf = BaggingClassifier(clf)\n",
        "bag_clf.fit(X_train_1,y_train_1)\n",
        "y_prob = clf.predict_proba(X_validate)[:,1]"
      ],
      "execution_count": 0,
      "outputs": []
    },
    {
      "metadata": {
        "id": "AesaGONXYCls",
        "colab_type": "code",
        "colab": {},
        "outputId": "2f45722b-2acd-4811-981d-3a7a078d229a"
      },
      "cell_type": "code",
      "source": [
        "from sklearn.ensemble import RandomForestClassifier\n",
        "\n",
        "clf=RandomForestClassifier()\n",
        "clf.fit(X_train_1,y_train_1)\n",
        "y_prob = clf.predict_proba(X_validate)[:,1]   "
      ],
      "execution_count": 0,
      "outputs": [
        {
          "output_type": "stream",
          "text": [
            "/home/shriya/anaconda3/lib/python3.6/site-packages/sklearn/ensemble/forest.py:248: FutureWarning: The default value of n_estimators will change from 10 in version 0.20 to 100 in 0.22.\n",
            "  \"10 in version 0.20 to 100 in 0.22.\", FutureWarning)\n"
          ],
          "name": "stderr"
        }
      ]
    },
    {
      "metadata": {
        "id": "v_wT04biYCly",
        "colab_type": "code",
        "colab": {}
      },
      "cell_type": "code",
      "source": [
        "from sklearn.ensemble import ExtraTreesClassifier\n",
        "\n",
        "clf=ExtraTreesClassifier()\n",
        "clf.fit(X_train_1,y_train_1)\n",
        "y_prob = clf.predict_proba(X_validate)[:,1]"
      ],
      "execution_count": 0,
      "outputs": []
    },
    {
      "metadata": {
        "id": "cRH2k9M0YCl2",
        "colab_type": "code",
        "colab": {}
      },
      "cell_type": "code",
      "source": [
        "from sklearn.ensemble import AdaBoostClassifier \n",
        "\n",
        "clf=AdaBoostClassifier().fit(X_train_1,y_train_1)\n",
        "y_prob = clf.predict_proba(X_validate)[:,1]"
      ],
      "execution_count": 0,
      "outputs": []
    },
    {
      "metadata": {
        "id": "xmezouItYCl8",
        "colab_type": "code",
        "colab": {}
      },
      "cell_type": "code",
      "source": [
        "from sklearn.ensemble import GradientBoostingClassifier\n",
        "clf_gbc = GradientBoostingClassifier().fit(X_train_1,y_train_1)\n",
        "y_prob = clf.predict_proba(X_validate)[:,1]"
      ],
      "execution_count": 0,
      "outputs": []
    },
    {
      "metadata": {
        "id": "l1TGb9ETYCmE",
        "colab_type": "code",
        "colab": {}
      },
      "cell_type": "code",
      "source": [
        "from xgboost import XGBClassifier\n",
        "\n",
        "clf =XGBClassifier(silent=True,booster=\"gbtree\",scale_pos_weight=1,learning_rate=0.01,colsample_bytree = 0.8,\n",
        "                      subsample = 0.8,objective='binary:logistic',n_estimators=200, \n",
        "                      reg_alpha = 0.3,max_depth=6,gamma=10)\n",
        "clf.fit(X_train_1,y_train_1)\n",
        "y_prob = clf.predict_proba(X_validate)[:,1]"
      ],
      "execution_count": 0,
      "outputs": []
    },
    {
      "metadata": {
        "id": "eCLcDaw8YCmG",
        "colab_type": "code",
        "colab": {
          "base_uri": "https://localhost:8080/",
          "height": 34
        },
        "outputId": "d79033c6-d872-4497-bbf7-afbfb320c29a"
      },
      "cell_type": "code",
      "source": [
        "from sklearn.metrics import roc_curve, roc_auc_score\n",
        "y_pred = np.where(y_prob > 0.5,1,0)\n",
        "accuracy=roc_auc_score(y_validate,y_pred)\n",
        "print (accuracy)"
      ],
      "execution_count": 39,
      "outputs": [
        {
          "output_type": "stream",
          "text": [
            "0.5\n"
          ],
          "name": "stdout"
        }
      ]
    },
    {
      "metadata": {
        "id": "vP-EWW6UYCmK",
        "colab_type": "code",
        "colab": {},
        "outputId": "8e06f4ec-6812-4880-e43e-e84c4b7a2c7a"
      },
      "cell_type": "code",
      "source": [
        "y_pred=clf.predict(X_test_pca)\n",
        "submission = pd.DataFrame({\"index\":index,\"TARGET\":y_pred})\n",
        "submission.to_csv('project_5.csv', index=False)"
      ],
      "execution_count": 0,
      "outputs": [
        {
          "output_type": "stream",
          "text": [
            "/home/shriya/anaconda3/lib/python3.6/site-packages/sklearn/preprocessing/label.py:151: DeprecationWarning: The truth value of an empty array is ambiguous. Returning False, but in future this will result in an error. Use `array.size > 0` to check that an array is not empty.\n",
            "  if diff:\n"
          ],
          "name": "stderr"
        }
      ]
    },
    {
      "metadata": {
        "id": "0PznzWPHYCmO",
        "colab_type": "code",
        "colab": {}
      },
      "cell_type": "code",
      "source": [
        ""
      ],
      "execution_count": 0,
      "outputs": []
    }
  ]
}